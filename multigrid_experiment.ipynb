{
 "cells": [
  {
   "cell_type": "code",
   "execution_count": 1,
   "metadata": {},
   "outputs": [
    {
     "name": "stdout",
     "output_type": "stream",
     "text": [
      "pygame 2.5.1 (SDL 2.28.2, Python 3.11.0)\n",
      "Hello from the pygame community. https://www.pygame.org/contribute.html\n"
     ]
    }
   ],
   "source": [
    "\n",
    "from minigrid.wrappers import ImgObsWrapper\n",
    "from multigrid.wrappers import MultiAgentImgObsWrapper\n",
    "from stable_baselines3 import PPO\n",
    "import torch.nn as nn\n",
    "\n",
    "import torch\n",
    "import gymnasium as gym\n",
    "from stable_baselines3.common.torch_layers import BaseFeaturesExtractor\n",
    "# from features_extractor import MinigridFeaturesExtractor\n",
    "from typing import Dict\n",
    "from multigrid.envs import EmptyEnv\n",
    "\n",
    "\n"
   ]
  },
  {
   "cell_type": "code",
   "execution_count": 2,
   "metadata": {},
   "outputs": [],
   "source": [
    "class MinigridFeaturesExtractor(BaseFeaturesExtractor):\n",
    "    def __init__(self, observation_space: gym.Space, features_dim: int = 64, normalized_image: bool = False) -> None:\n",
    "        super().__init__(observation_space, features_dim)\n",
    "        self.cnn = nn.Sequential(\n",
    "            nn.Conv2d(3, 16, (2, 2)),\n",
    "            nn.ReLU(),\n",
    "            nn.Conv2d(16, 32, (2, 2)),\n",
    "            nn.ReLU(),\n",
    "            nn.Conv2d(32, 64, (2, 2)),\n",
    "            nn.ReLU(),\n",
    "            nn.Flatten(),\n",
    "        )\n",
    "\n",
    "        print(observation_space)\n",
    "        \n",
    "        n = observation_space.shape[0]\n",
    "        m = observation_space.shape[1]\n",
    "        print(n,m)\n",
    "        self.image_embedding_size = ((n-1)//2-2)*((m-1)//2-2)*64\n",
    "\n",
    "\n",
    "        # Compute shape by doing one forward pass\n",
    "        tens= torch.as_tensor(observation_space.sample()[None]).to(torch.uint8).float()\n",
    "        print(tens.shape)\n",
    "        tens = torch.tensor(tens).float().permute(0,3,1,2)\n",
    "        with torch.no_grad():\n",
    "            n_flatten = self.cnn(tens).shape[1]\n",
    "        print(features_dim, self.image_embedding_size)\n",
    "        lin = nn.Linear(n_flatten, features_dim)\n",
    "        self.linear = nn.Sequential(lin, nn.ReLU())\n",
    "\n",
    "    def forward(self, observations: torch.Tensor) -> torch.Tensor:\n",
    "        \n",
    "        print(f\"from_forward{observations.shape}\")\n",
    "        observations = torch.Tensor(observations)\n",
    "        return self.linear(self.cnn(observations))"
   ]
  },
  {
   "cell_type": "code",
   "execution_count": 3,
   "metadata": {},
   "outputs": [],
   "source": [
    "\n",
    "\n",
    "policy_kwargs = dict(\n",
    "    features_extractor_class=MinigridFeaturesExtractor,\n",
    "    features_extractor_kwargs=dict(features_dim=128),\n",
    ")\n",
    "\n",
    "env = EmptyEnv(render_mode=\"rgb_array\", agents=2)\n",
    "env = MultiAgentImgObsWrapper(env)\n",
    "# env = ImgObsWrapper(env)\n",
    "\n",
    "\n",
    "\n",
    "# model = PPO(\"CnnPolicy\", env, policy_kwargs=policy_kwargs, verbose=1)\n",
    "# model.learn(20)"
   ]
  },
  {
   "cell_type": "code",
   "execution_count": 4,
   "metadata": {},
   "outputs": [],
   "source": [
    "obs = env.reset()\n",
    "# obs = torch.tensor(obs[0]).unsqueeze(0)\n",
    "# obs.shape\n"
   ]
  },
  {
   "cell_type": "code",
   "execution_count": 5,
   "metadata": {},
   "outputs": [
    {
     "data": {
      "text/plain": [
       "{0: Box(0, 255, (7, 7, 3), int64), 1: Box(0, 255, (7, 7, 3), int64)}"
      ]
     },
     "execution_count": 5,
     "metadata": {},
     "output_type": "execute_result"
    }
   ],
   "source": [
    "env.observation_space"
   ]
  },
  {
   "cell_type": "code",
   "execution_count": 6,
   "metadata": {},
   "outputs": [
    {
     "ename": "",
     "evalue": "",
     "output_type": "error",
     "traceback": [
      "\u001b[1;31mThe Kernel crashed while executing code in the the current cell or a previous cell. Please review the code in the cell(s) to identify a possible cause of the failure. Click <a href='https://aka.ms/vscodeJupyterKernelCrash'>here</a> for more info. View Jupyter <a href='command:jupyter.viewOutput'>log</a> for further details."
     ]
    }
   ],
   "source": [
    "from multigrid.envs import EmptyEnv\n",
    "from multigrid.wrappers import MultiAgentImgObsWrapper\n",
    "\n",
    "env2 = EmptyEnv(render_mode=\"rgb_array\", agents=2)\n",
    "env2 = MultiAgentImgObsWrapper(env2)\n",
    "\n",
    "obs2 = env.reset()\n",
    "obs2 = torch.tensor(obs[0][0]).unsqueeze(0)\n",
    "print(\"asdas\")\n",
    "feature_extractor  = MinigridFeaturesExtractor(env2.observation_space[0], features_dim=64)\n"
   ]
  },
  {
   "cell_type": "code",
   "execution_count": 7,
   "metadata": {},
   "outputs": [
    {
     "ename": "",
     "evalue": "",
     "output_type": "error",
     "traceback": [
      "\u001b[1;31mThe Kernel crashed while executing code in the the current cell or a previous cell. Please review the code in the cell(s) to identify a possible cause of the failure. Click <a href='https://aka.ms/vscodeJupyterKernelCrash'>here</a> for more info. View Jupyter <a href='command:jupyter.viewOutput'>log</a> for further details."
     ]
    }
   ],
   "source": [
    "obs = env.reset()\n",
    "obs = torch.tensor(obs[0][0]).unsqueeze(0)\n",
    "print(\"asdas\")\n",
    "feature_extractor  = MinigridFeaturesExtractor(env.observation_space[0], features_dim=64)\n",
    "\n",
    "# for agent_obs in obs:\n",
    "#     agent_obs =torch.tensor(agent_obs).float().permute(0,3,1,2)\n",
    "\n",
    "# x = feature_extractor(obs)\n",
    "# obs, _ , _, _, _ = env.step(env.action_space.sample())\n",
    "# obs =torch.tensor(obs).float().unsqueeze(0).permute(0,3,1,2)\n",
    "# x = feature_extractor(obs)"
   ]
  },
  {
   "cell_type": "markdown",
   "metadata": {},
   "source": []
  },
  {
   "cell_type": "code",
   "execution_count": 7,
   "metadata": {},
   "outputs": [
    {
     "data": {
      "text/plain": [
       "Box(0, 255, (7, 7, 3), int64)"
      ]
     },
     "execution_count": 7,
     "metadata": {},
     "output_type": "execute_result"
    }
   ],
   "source": [
    "env.observation_space[0]"
   ]
  },
  {
   "cell_type": "code",
   "execution_count": 8,
   "metadata": {},
   "outputs": [
    {
     "ename": "",
     "evalue": "",
     "output_type": "error",
     "traceback": [
      "\u001b[1;31mThe Kernel crashed while executing code in the the current cell or a previous cell. Please review the code in the cell(s) to identify a possible cause of the failure. Click <a href='https://aka.ms/vscodeJupyterKernelCrash'>here</a> for more info. View Jupyter <a href='command:jupyter.viewOutput'>log</a> for further details."
     ]
    }
   ],
   "source": [
    "obs = env.reset()\n",
    "obs = torch.tensor(obs[0][0]).unsqueeze(0)\n",
    "\n",
    "feature_extractor  = MinigridFeaturesExtractor(env.observation_space[0], features_dim=64)\n",
    "\n",
    "# for agent_obs in obs:\n",
    "#     agent_obs =torch.tensor(agent_obs).float().permute(0,3,1,2)"
   ]
  },
  {
   "cell_type": "code",
   "execution_count": null,
   "metadata": {},
   "outputs": [],
   "source": []
  }
 ],
 "metadata": {
  "kernelspec": {
   "display_name": "multigrid_test",
   "language": "python",
   "name": "python3"
  },
  "language_info": {
   "codemirror_mode": {
    "name": "ipython",
    "version": 3
   },
   "file_extension": ".py",
   "mimetype": "text/x-python",
   "name": "python",
   "nbconvert_exporter": "python",
   "pygments_lexer": "ipython3",
   "version": "3.11.0"
  }
 },
 "nbformat": 4,
 "nbformat_minor": 2
}
