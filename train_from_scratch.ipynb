{
 "cells": [
  {
   "cell_type": "code",
   "execution_count": 6,
   "id": "48e0679f",
   "metadata": {},
   "outputs": [
    {
     "name": "stdout",
     "output_type": "stream",
     "text": [
      "The autoreload extension is already loaded. To reload it, use:\n",
      "  %reload_ext autoreload\n",
      "self.max_steps=200\n"
     ]
    }
   ],
   "source": [
    "%load_ext autoreload\n",
    "%autoreload 2\n",
    "from multigrid.envs import ConstrainedEnv\n",
    "import matplotlib.pyplot as plt\n",
    "\n",
    "env = ConstrainedEnv(render_mode=\"rgb_array\", agents=2)\n",
    "\n",
    "\n",
    "state, info = env.reset()"
   ]
  },
  {
   "cell_type": "code",
   "execution_count": 5,
   "id": "b7fcd825",
   "metadata": {},
   "outputs": [
    {
     "name": "stdout",
     "output_type": "stream",
     "text": [
      "CUDA Available:  False\n"
     ]
    }
   ],
   "source": [
    "import torch\n",
    "\n",
    "# Check if CUDA is available\n",
    "cuda_available = torch.cuda.is_available()\n",
    "print(\"CUDA Available: \", cuda_available)"
   ]
  },
  {
   "cell_type": "code",
   "execution_count": 5,
   "id": "7b3946a1",
   "metadata": {},
   "outputs": [
    {
     "data": {
      "image/png": "[encoded data removed]",
      "text/plain": [
       "<Figure size 640x480 with 1 Axes>"
      ]
     },
     "metadata": {},
     "output_type": "display_data"
    }
   ],
   "source": [
    "# Test a step and show environment is working\n",
    "\n",
    "action = env.action_space.sample()\n",
    "env.step(action)\n",
    "img = env.render()\n",
    "plt.imshow(img)\n",
    "plt.show()\n"
   ]
  },
  {
   "cell_type": "code",
   "execution_count": 6,
   "id": "810e5ad7",
   "metadata": {},
   "outputs": [],
   "source": [
    "from DQN_multi_agent import *"
   ]
  },
  {
   "cell_type": "code",
   "execution_count": 7,
   "id": "7a2a974b",
   "metadata": {},
   "outputs": [],
   "source": [
    "\n",
    "import torch.nn as nn\n",
    "import torch\n",
    "import gymnasium as gym\n",
    "from stable_baselines3.common.torch_layers import BaseFeaturesExtractor\n",
    "from typing import Dict\n",
    "\n",
    "\n",
    "class MultiAgentMinigridFeaturesExtractor(BaseFeaturesExtractor):\n",
    "    def __init__(self, observation_space: gym.Space, features_dim: int = 512, normalized_image: bool = False) -> None:\n",
    "        super().__init__(observation_space, features_dim)\n",
    "\n",
    "        # Assume all agents have the same observation space\n",
    "        agent_obs_space = observation_space.spaces[0]['image']\n",
    "        n_input_channels = agent_obs_space.shape[0]\n",
    "\n",
    "        self.cnn = nn.Sequential(\n",
    "            nn.Conv2d(n_input_channels, 16, (2, 2)),\n",
    "            nn.ReLU(),\n",
    "            nn.Conv2d(16, 32, (2, 2)),\n",
    "            nn.ReLU(),\n",
    "            nn.Conv2d(32, 64, (2, 2)),\n",
    "            nn.ReLU(),\n",
    "            nn.Flatten(),\n",
    "        )\n",
    "\n",
    "        # Compute shape by doing one forward pass\n",
    "        with torch.no_grad():\n",
    "            n_flatten = self.cnn(torch.as_tensor(agent_obs_space.sample()[None]).float()).shape[1]\n",
    "\n",
    "        self.linear = nn.Sequential(nn.Linear(n_flatten, features_dim), nn.ReLU())\n",
    "\n",
    "    def forward(self, observations: Dict[int, Dict[str, torch.Tensor]]) -> torch.Tensor:\n",
    "        # Extract image observations for each agent and pass through CNN\n",
    "        image_obs = torch.stack([obs_dict['image'] for obs_dict in observations.values()])\n",
    "        cnn_out = self.cnn(image_obs)\n",
    "\n",
    "        # Pass CNN output through linear layer\n",
    "        return self.linear(cnn_out)\n",
    "\n"
   ]
  },
  {
   "cell_type": "code",
   "execution_count": 8,
   "id": "83b0f707",
   "metadata": {},
   "outputs": [
    {
     "name": "stdout",
     "output_type": "stream",
     "text": [
      "OrderedDict([(0, 6), (1, 3)])\n"
     ]
    },
    {
     "data": {
      "text/plain": [
       "(1, 3)"
      ]
     },
     "execution_count": 8,
     "metadata": {},
     "output_type": "execute_result"
    }
   ],
   "source": [
    "action = env.action_space.sample()\n",
    "print(action)\n",
    "keys  =list(action.keys())\n",
    "second_key = keys[1]\n",
    "second_item = (second_key, action[second_key])\n",
    "second_item"
   ]
  },
  {
   "cell_type": "code",
   "execution_count": 9,
   "id": "edd1bbb5",
   "metadata": {},
   "outputs": [
    {
     "data": {
      "text/plain": [
       "array([[[[224, 178, 104],\n",
       "         [253, 161, 132],\n",
       "         [219, 121,   3],\n",
       "         [219,   3,  48],\n",
       "         [168,  32, 232],\n",
       "         [ 66,  45,  14],\n",
       "         [  5, 153,  26]],\n",
       "\n",
       "        [[ 31,  12,  66],\n",
       "         [183,  41, 165],\n",
       "         [104, 133, 201],\n",
       "         [ 82, 253,  22],\n",
       "         [172,   5, 130],\n",
       "         [183, 133,   1],\n",
       "         [ 92, 190,  17]],\n",
       "\n",
       "        [[246, 151, 233],\n",
       "         [ 43, 231, 254],\n",
       "         [ 86,  50, 158],\n",
       "         [ 69,   0, 197],\n",
       "         [156,  27,  55],\n",
       "         [ 46,  85,  39],\n",
       "         [ 87, 219,  58]],\n",
       "\n",
       "        [[102, 184, 137],\n",
       "         [ 80,  88, 227],\n",
       "         [193,  62, 108],\n",
       "         [165, 210, 253],\n",
       "         [ 88, 109, 190],\n",
       "         [111,  42, 226],\n",
       "         [ 56, 190,  39]],\n",
       "\n",
       "        [[179, 158, 241],\n",
       "         [177,  77, 216],\n",
       "         [ 60, 231, 168],\n",
       "         [153, 240,  41],\n",
       "         [244,  63, 172],\n",
       "         [215,   1,  98],\n",
       "         [126, 113,  65]],\n",
       "\n",
       "        [[145, 127, 158],\n",
       "         [131,  48,  92],\n",
       "         [192,  40, 204],\n",
       "         [175, 203, 146],\n",
       "         [137, 185, 126],\n",
       "         [143, 162, 174],\n",
       "         [ 45, 100,  27]],\n",
       "\n",
       "        [[ 15,  17, 154],\n",
       "         [235,  35, 133],\n",
       "         [148, 168, 233],\n",
       "         [204,  86, 197],\n",
       "         [ 36,  25, 114],\n",
       "         [201,  69,  54],\n",
       "         [ 56,  45, 169]]]])"
      ]
     },
     "execution_count": 9,
     "metadata": {},
     "output_type": "execute_result"
    }
   ],
   "source": [
    "env.observation_space.spaces[0]['image'].sample()[None]"
   ]
  },
  {
   "cell_type": "code",
   "execution_count": 10,
   "id": "8bf0e832",
   "metadata": {},
   "outputs": [
    {
     "name": "stdout",
     "output_type": "stream",
     "text": [
      "Dict(0: Dict('direction': Discrete(4), 'image': Box(0, 255, (7, 7, 3), int64), 'mission': MissionSpace('get to the green goal square, you rascal')), 1: Dict('direction': Discrete(4), 'image': Box(0, 255, (7, 7, 3), int64), 'mission': MissionSpace('get to the green goal square, you rascal')))\n",
      "[[[ 88 182 101]\n",
      "  [ 11 132  44]\n",
      "  [ 39  51 128]\n",
      "  [189 244  58]\n",
      "  [104  38 157]\n",
      "  [108 222 208]\n",
      "  [234   2  83]]\n",
      "\n",
      " [[233  70 144]\n",
      "  [147 125 118]\n",
      "  [ 71  61 161]\n",
      "  [239  18 156]\n",
      "  [205 228  46]\n",
      "  [  2 137 226]\n",
      "  [129 254 154]]\n",
      "\n",
      " [[174 101 184]\n",
      "  [116 248 172]\n",
      "  [125  15 232]\n",
      "  [ 85  31 255]\n",
      "  [217  13 169]\n",
      "  [125 132  27]\n",
      "  [210  41 131]]\n",
      "\n",
      " [[ 30 219 192]\n",
      "  [129 174 203]\n",
      "  [172  73 212]\n",
      "  [145 234 144]\n",
      "  [ 42 102 248]\n",
      "  [140 115 255]\n",
      "  [248  76 153]]\n",
      "\n",
      " [[124 177  87]\n",
      "  [205  56 108]\n",
      "  [104 245 174]\n",
      "  [183 255 123]\n",
      "  [ 32 240 115]\n",
      "  [ 82   3 178]\n",
      "  [203 106  51]]\n",
      "\n",
      " [[217  88 107]\n",
      "  [171  27 119]\n",
      "  [ 33 127 183]\n",
      "  [ 44 158 179]\n",
      "  [153  72  33]\n",
      "  [143  87   7]\n",
      "  [ 11 153 133]]\n",
      "\n",
      " [[ 26   6 148]\n",
      "  [ 18  91 153]\n",
      "  [193 194  72]\n",
      "  [186  22  61]\n",
      "  [164 118  79]\n",
      "  [222 226  74]\n",
      "  [240 171 233]]]\n",
      "(7, 7, 3)\n",
      "Current device for CNN: cpu\n"
     ]
    },
    {
     "ename": "",
     "evalue": "",
     "output_type": "error",
     "traceback": [
      "\u001b[1;31mThe Kernel crashed while executing code in the the current cell or a previous cell. Please review the code in the cell(s) to identify a possible cause of the failure. Click <a href='https://aka.ms/vscodeJupyterKernelCrash'>here</a> for more info. View Jupyter <a href='command:jupyter.viewOutput'>log</a> for further details."
     ]
    }
   ],
   "source": [
    "agent = Agent(env)\n",
    "agent.train(1,env)\n",
    "print(\"we did it\")"
   ]
  },
  {
   "cell_type": "code",
   "execution_count": null,
   "id": "f31ba5a2",
   "metadata": {},
   "outputs": [
    {
     "name": "stdout",
     "output_type": "stream",
     "text": [
      "Dict(0: Dict('direction': Discrete(4), 'image': Box(0, 255, (7, 7, 3), int64), 'mission': MissionSpace('get to the green goal square, you rascal')), 1: Dict('direction': Discrete(4), 'image': Box(0, 255, (7, 7, 3), int64), 'mission': MissionSpace('get to the green goal square, you rascal')))\n"
     ]
    }
   ],
   "source": [
    "print(env.observation_space)"
   ]
  },
  {
   "cell_type": "code",
   "execution_count": null,
   "id": "34559090",
   "metadata": {},
   "outputs": [],
   "source": [
    "env = gym.make(\n",
    "    \"LunarLander-v2\",\n",
    "    continuous = False,\n",
    "    gravity = -10.0,\n",
    "    enable_wind = False,\n",
    "    wind_power = 15.0,\n",
    "    turbulence_power = 1.5\n",
    ")"
   ]
  },
  {
   "cell_type": "code",
   "execution_count": 9,
   "id": "d7c21f54",
   "metadata": {},
   "outputs": [
    {
     "data": {
      "text/plain": [
       "Box([-1.5       -1.5       -5.        -5.        -3.1415927 -5.\n",
       " -0.        -0.       ], [1.5       1.5       5.        5.        3.1415927 5.        1.\n",
       " 1.       ], (8,), float32)"
      ]
     },
     "execution_count": 9,
     "metadata": {},
     "output_type": "execute_result"
    }
   ],
   "source": []
  },
  {
   "cell_type": "code",
   "execution_count": 10,
   "id": "a63da108",
   "metadata": {},
   "outputs": [],
   "source": [
    "import minigrid"
   ]
  },
  {
   "cell_type": "code",
   "execution_count": 14,
   "id": "056ebd5f",
   "metadata": {},
   "outputs": [],
   "source": [
    "import gymnasium\n",
    "import minigrid\n",
    "\n",
    "# Create a MiniGrid environment\n",
    "env = gym.make('MiniGrid-Empty-5x5-v0')\n",
    "\n",
    "# Reset the environment\n",
    "obs = env.reset()\n",
    "\n",
    "# Render the initial state\n",
    "env.render(\n",
    "    \n",
    ")"
   ]
  }
 ],
 "metadata": {
  "kernelspec": {
   "display_name": "multigrid_stable",
   "language": "python",
   "name": "python3"
  },
  "language_info": {
   "codemirror_mode": {
    "name": "ipython",
    "version": 3
   },
   "file_extension": ".py",
   "mimetype": "text/x-python",
   "name": "python",
   "nbconvert_exporter": "python",
   "pygments_lexer": "ipython3",
   "version": "3.11.0"
  }
 },
 "nbformat": 4,
 "nbformat_minor": 5
}
