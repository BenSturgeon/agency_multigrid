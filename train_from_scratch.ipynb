{
 "cells": [
  {
   "cell_type": "code",
   "execution_count": 1,
   "id": "48e0679f",
   "metadata": {},
   "outputs": [
    {
     "name": "stdout",
     "output_type": "stream",
     "text": [
      "pygame 2.5.1 (SDL 2.28.2, Python 3.11.0)\n",
      "Hello from the pygame community. https://www.pygame.org/contribute.html\n",
      "self.max_steps=200\n"
     ]
    }
   ],
   "source": [
    "%load_ext autoreload\n",
    "%autoreload 2\n",
    "from multigrid.envs import ConstrainedEnv\n",
    "import matplotlib.pyplot as plt\n",
    "\n",
    "env = ConstrainedEnv(render_mode=\"rgb_array\", agents=2)\n",
    "\n",
    "\n",
    "state, info = env.reset()"
   ]
  },
  {
   "cell_type": "code",
   "execution_count": 2,
   "id": "7b3946a1",
   "metadata": {},
   "outputs": [
    {
     "data": {
      "image/png": "[encoded data removed]",
      "text/plain": [
       "<Figure size 640x480 with 1 Axes>"
      ]
     },
     "metadata": {},
     "output_type": "display_data"
    }
   ],
   "source": [
    "# Test a step and show environment is working\n",
    "\n",
    "action = env.action_space.sample()\n",
    "env.step(action)\n",
    "img = env.render()\n",
    "plt.imshow(img)\n",
    "plt.show()\n"
   ]
  },
  {
   "cell_type": "code",
   "execution_count": 3,
   "id": "810e5ad7",
   "metadata": {},
   "outputs": [],
   "source": [
    "from DQN_multi_agent import *"
   ]
  },
  {
   "cell_type": "code",
   "execution_count": 4,
   "id": "7a2a974b",
   "metadata": {},
   "outputs": [],
   "source": [
    "\n",
    "import torch.nn as nn\n",
    "import torch\n",
    "import gymnasium as gym\n",
    "from stable_baselines3.common.torch_layers import BaseFeaturesExtractor\n",
    "from typing import Dict\n",
    "\n",
    "\n",
    "class MultiAgentMinigridFeaturesExtractor(BaseFeaturesExtractor):\n",
    "    def __init__(self, observation_space: gym.Space, features_dim: int = 512, normalized_image: bool = False) -> None:\n",
    "        super().__init__(observation_space, features_dim)\n",
    "\n",
    "        # Assume all agents have the same observation space\n",
    "        agent_obs_space = observation_space.spaces[0]['image']\n",
    "        n_input_channels = agent_obs_space.shape[0]\n",
    "\n",
    "        self.cnn = nn.Sequential(\n",
    "            nn.Conv2d(n_input_channels, 16, (2, 2)),\n",
    "            nn.ReLU(),\n",
    "            nn.Conv2d(16, 32, (2, 2)),\n",
    "            nn.ReLU(),\n",
    "            nn.Conv2d(32, 64, (2, 2)),\n",
    "            nn.ReLU(),\n",
    "            nn.Flatten(),\n",
    "        )\n",
    "\n",
    "        # Compute shape by doing one forward pass\n",
    "        with torch.no_grad():\n",
    "            n_flatten = self.cnn(torch.as_tensor(agent_obs_space.sample()[None]).float()).shape[1]\n",
    "\n",
    "        self.linear = nn.Sequential(nn.Linear(n_flatten, features_dim), nn.ReLU())\n",
    "\n",
    "    def forward(self, observations: Dict[int, Dict[str, torch.Tensor]]) -> torch.Tensor:\n",
    "        # Extract image observations for each agent and pass through CNN\n",
    "        image_obs = torch.stack([obs_dict['image'] for obs_dict in observations.values()])\n",
    "        cnn_out = self.cnn(image_obs)\n",
    "\n",
    "        # Pass CNN output through linear layer\n",
    "        return self.linear(cnn_out)\n",
    "\n"
   ]
  },
  {
   "cell_type": "code",
   "execution_count": 5,
   "id": "edd1bbb5",
   "metadata": {},
   "outputs": [
    {
     "data": {
      "text/plain": [
       "array([[[[164, 112, 229],\n",
       "         [211,  20, 123],\n",
       "         [189, 152, 222],\n",
       "         [216,  76,  75],\n",
       "         [162,  33,  87],\n",
       "         [ 77,  63, 219],\n",
       "         [172, 153, 218]],\n",
       "\n",
       "        [[ 95, 212,  38],\n",
       "         [212,  61, 191],\n",
       "         [ 38, 122, 159],\n",
       "         [  2, 174,  54],\n",
       "         [223,  96, 201],\n",
       "         [ 23, 129, 136],\n",
       "         [ 15, 127, 237]],\n",
       "\n",
       "        [[222, 148,  33],\n",
       "         [ 64, 233,  78],\n",
       "         [ 32,  60,  43],\n",
       "         [ 42,  90,  49],\n",
       "         [ 55, 114,  49],\n",
       "         [172,  35, 165],\n",
       "         [ 70,  30, 168]],\n",
       "\n",
       "        [[198, 135, 202],\n",
       "         [ 74, 240,   7],\n",
       "         [153,  90,  30],\n",
       "         [ 41, 244, 201],\n",
       "         [181, 234, 140],\n",
       "         [ 52, 184, 223],\n",
       "         [212,  91, 101]],\n",
       "\n",
       "        [[ 40, 249, 181],\n",
       "         [132, 201, 158],\n",
       "         [ 15, 137, 140],\n",
       "         [176, 119,  30],\n",
       "         [164,  52, 189],\n",
       "         [100,  55, 104],\n",
       "         [185,   3, 156]],\n",
       "\n",
       "        [[ 81, 189, 121],\n",
       "         [226, 165,  13],\n",
       "         [ 44, 254, 230],\n",
       "         [ 56, 246, 151],\n",
       "         [ 12,  35, 191],\n",
       "         [ 18, 229, 218],\n",
       "         [  9, 230,  56]],\n",
       "\n",
       "        [[ 14, 102, 165],\n",
       "         [104,  78,  70],\n",
       "         [186,  45,  36],\n",
       "         [157, 231, 145],\n",
       "         [ 35, 212, 160],\n",
       "         [216, 106, 214],\n",
       "         [193, 184,  32]]]])"
      ]
     },
     "execution_count": 5,
     "metadata": {},
     "output_type": "execute_result"
    }
   ],
   "source": [
    "env.observation_space.spaces[0]['image'].sample()[None]"
   ]
  },
  {
   "cell_type": "code",
   "execution_count": 7,
   "id": "ee7ae678",
   "metadata": {},
   "outputs": [],
   "source": [
    "image_space = env.observation_space.spaces[0]['image']\n",
    "\n",
    "n_input_channels = image_space.shape[0]\n",
    "\n",
    "\n",
    "cnn = nn.Sequential(\n",
    "            nn.Conv2d(n_input_channels, 16, (2, 2)),\n",
    "            nn.ReLU(),\n",
    "            nn.Conv2d(16, 32, (2, 2)),\n",
    "            nn.ReLU(),\n",
    "            nn.Conv2d(32, 64, (2, 2)),\n",
    "            nn.ReLU(),\n",
    "            nn.Flatten(),\n",
    "        )"
   ]
  },
  {
   "cell_type": "code",
   "execution_count": 8,
   "id": "510d3f34",
   "metadata": {},
   "outputs": [
    {
     "data": {
      "text/plain": [
       "tensor([[[[ 93., 145., 231.],\n",
       "          [ 33., 100.,  30.],\n",
       "          [121., 135., 136.],\n",
       "          [127., 227.,  64.],\n",
       "          [ 72., 157.,  34.],\n",
       "          [ 62., 186., 226.],\n",
       "          [207., 132.,  68.]],\n",
       "\n",
       "         [[ 55.,  52., 221.],\n",
       "          [ 14.,  87., 134.],\n",
       "          [182., 128., 253.],\n",
       "          [151., 173.,  99.],\n",
       "          [115., 148., 227.],\n",
       "          [223.,  69., 174.],\n",
       "          [ 62.,  43.,  93.]],\n",
       "\n",
       "         [[ 97., 120.,   2.],\n",
       "          [243.,  38.,  83.],\n",
       "          [115.,   5., 192.],\n",
       "          [136., 124., 222.],\n",
       "          [215., 108.,  30.],\n",
       "          [ 84.,  92., 218.],\n",
       "          [ 28.,  83.,  56.]],\n",
       "\n",
       "         [[175., 239., 222.],\n",
       "          [  4.,  28., 192.],\n",
       "          [ 31., 190.,  73.],\n",
       "          [247., 208.,  75.],\n",
       "          [ 60., 238.,  91.],\n",
       "          [130., 149.,  85.],\n",
       "          [254.,  52.,  72.]],\n",
       "\n",
       "         [[140., 192., 154.],\n",
       "          [149., 126.,  72.],\n",
       "          [  4., 161., 231.],\n",
       "          [236., 101., 149.],\n",
       "          [151., 214., 121.],\n",
       "          [207.,  47.,  50.],\n",
       "          [ 26.,   5., 187.]],\n",
       "\n",
       "         [[ 67., 116.,  44.],\n",
       "          [168., 146., 120.],\n",
       "          [165., 153., 216.],\n",
       "          [ 32., 145.,  85.],\n",
       "          [219.,  39.,  57.],\n",
       "          [112.,  56.,  93.],\n",
       "          [142., 226., 105.]],\n",
       "\n",
       "         [[ 90., 151.,  58.],\n",
       "          [223., 225., 127.],\n",
       "          [180., 169., 180.],\n",
       "          [188., 108.,  56.],\n",
       "          [169.,  80., 146.],\n",
       "          [250., 250.,   9.],\n",
       "          [106.,  39., 184.]]]])"
      ]
     },
     "execution_count": 8,
     "metadata": {},
     "output_type": "execute_result"
    }
   ],
   "source": [
    "torch.as_tensor(env.observation_space.spaces[0]['image'].sample()[None]).float()"
   ]
  },
  {
   "cell_type": "code",
   "execution_count": 9,
   "id": "79e7c4b6",
   "metadata": {},
   "outputs": [
    {
     "data": {
      "text/plain": [
       "7"
      ]
     },
     "execution_count": 9,
     "metadata": {},
     "output_type": "execute_result"
    }
   ],
   "source": [
    "n_input_channels"
   ]
  },
  {
   "cell_type": "code",
   "execution_count": 13,
   "id": "d98bcd68",
   "metadata": {},
   "outputs": [
    {
     "ename": "",
     "evalue": "",
     "output_type": "error",
     "traceback": [
      "\u001b[1;31mCannot execute code, session has been disposed. Please try restarting the Kernel."
     ]
    },
    {
     "ename": "",
     "evalue": "",
     "output_type": "error",
     "traceback": [
      "\u001b[1;31mThe Kernel crashed while executing code in the the current cell or a previous cell. Please review the code in the cell(s) to identify a possible cause of the failure. Click <a href='https://aka.ms/vscodeJupyterKernelCrash'>here</a> for more info. View Jupyter <a href='command:jupyter.viewOutput'>log</a> for further details."
     ]
    }
   ],
   "source": [
    "# n_flatten = cnn(torch.as_tensor(env.observation_space.spaces[0]['image'].sample()[None]).float()).shape[1]\n",
    "n_flatten = cnn(torch.as_tensor(env.observation_space.spaces[0]['image'].sample()[None]).float()).shape[1]"
   ]
  },
  {
   "cell_type": "code",
   "execution_count": 6,
   "id": "8bf0e832",
   "metadata": {},
   "outputs": [
    {
     "ename": "",
     "evalue": "",
     "output_type": "error",
     "traceback": [
      "\u001b[1;31mCannot execute code, session has been disposed. Please try restarting the Kernel."
     ]
    },
    {
     "ename": "",
     "evalue": "",
     "output_type": "error",
     "traceback": [
      "\u001b[1;31mThe Kernel crashed while executing code in the the current cell or a previous cell. Please review the code in the cell(s) to identify a possible cause of the failure. Click <a href='https://aka.ms/vscodeJupyterKernelCrash'>here</a> for more info. View Jupyter <a href='command:jupyter.viewOutput'>log</a> for further details."
     ]
    }
   ],
   "source": [
    "agent = Agent(env)\n",
    "agent.train(20,env)\n",
    "print(\"we did it\")"
   ]
  },
  {
   "cell_type": "code",
   "execution_count": null,
   "id": "f31ba5a2",
   "metadata": {},
   "outputs": [
    {
     "name": "stdout",
     "output_type": "stream",
     "text": [
      "Dict(0: Dict('direction': Discrete(4), 'image': Box(0, 255, (7, 7, 3), int64), 'mission': MissionSpace('get to the green goal square, you rascal')), 1: Dict('direction': Discrete(4), 'image': Box(0, 255, (7, 7, 3), int64), 'mission': MissionSpace('get to the green goal square, you rascal')))\n"
     ]
    }
   ],
   "source": [
    "print(env.observation_space)"
   ]
  },
  {
   "cell_type": "code",
   "execution_count": null,
   "id": "34559090",
   "metadata": {},
   "outputs": [],
   "source": [
    "env = gym.make(\n",
    "    \"LunarLander-v2\",\n",
    "    continuous = False,\n",
    "    gravity = -10.0,\n",
    "    enable_wind = False,\n",
    "    wind_power = 15.0,\n",
    "    turbulence_power = 1.5\n",
    ")"
   ]
  },
  {
   "cell_type": "code",
   "execution_count": 9,
   "id": "d7c21f54",
   "metadata": {},
   "outputs": [
    {
     "data": {
      "text/plain": [
       "Box([-1.5       -1.5       -5.        -5.        -3.1415927 -5.\n",
       " -0.        -0.       ], [1.5       1.5       5.        5.        3.1415927 5.        1.\n",
       " 1.       ], (8,), float32)"
      ]
     },
     "execution_count": 9,
     "metadata": {},
     "output_type": "execute_result"
    }
   ],
   "source": [
    "env.observation_space"
   ]
  },
  {
   "cell_type": "code",
   "execution_count": null,
   "id": "a63da108",
   "metadata": {},
   "outputs": [],
   "source": []
  }
 ],
 "metadata": {
  "kernelspec": {
   "display_name": "multigrid_stable",
   "language": "python",
   "name": "python3"
  },
  "language_info": {
   "codemirror_mode": {
    "name": "ipython",
    "version": 3
   },
   "file_extension": ".py",
   "mimetype": "text/x-python",
   "name": "python",
   "nbconvert_exporter": "python",
   "pygments_lexer": "ipython3",
   "version": "3.11.0"
  }
 },
 "nbformat": 4,
 "nbformat_minor": 5
}
