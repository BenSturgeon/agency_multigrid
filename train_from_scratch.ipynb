{
 "cells": [
  {
   "cell_type": "code",
   "execution_count": 1,
   "id": "48e0679f",
   "metadata": {},
   "outputs": [
    {
     "name": "stdout",
     "output_type": "stream",
     "text": [
      "pygame 2.5.1 (SDL 2.28.2, Python 3.11.0)\n",
      "Hello from the pygame community. https://www.pygame.org/contribute.html\n",
      "self.max_steps=200\n"
     ]
    }
   ],
   "source": [
    "%load_ext autoreload\n",
    "%autoreload 2\n",
    "from multigrid.envs import ConstrainedEnv\n",
    "import matplotlib.pyplot as plt\n",
    "\n",
    "env = ConstrainedEnv(render_mode=\"rgb_array\", agents=2)\n",
    "\n",
    "\n",
    "state, info = env.reset()"
   ]
  },
  {
   "cell_type": "code",
   "execution_count": 2,
   "id": "b7fcd825",
   "metadata": {},
   "outputs": [
    {
     "name": "stdout",
     "output_type": "stream",
     "text": [
      "CUDA Available:  False\n"
     ]
    }
   ],
   "source": [
    "import torch\n",
    "\n",
    "# Check if CUDA is available\n",
    "cuda_available = torch.cuda.is_available()\n",
    "print(\"CUDA Available: \", cuda_available)"
   ]
  },
  {
   "cell_type": "code",
   "execution_count": 3,
   "id": "7b3946a1",
   "metadata": {},
   "outputs": [
    {
     "data": {
      "image/png": "[encoded data removed]",
      "text/plain": [
       "<Figure size 640x480 with 1 Axes>"
      ]
     },
     "metadata": {},
     "output_type": "display_data"
    }
   ],
   "source": [
    "# Test a step and show environment is working\n",
    "\n",
    "action = env.action_space.sample()\n",
    "env.step(action)\n",
    "img = env.render()\n",
    "plt.imshow(img)\n",
    "plt.show()\n"
   ]
  },
  {
   "cell_type": "code",
   "execution_count": 4,
   "id": "810e5ad7",
   "metadata": {},
   "outputs": [],
   "source": [
    "from DQN_multi_agent import *"
   ]
  },
  {
   "cell_type": "code",
   "execution_count": 10,
   "id": "7a2a974b",
   "metadata": {},
   "outputs": [
    {
     "ename": "",
     "evalue": "",
     "output_type": "error",
     "traceback": [
      "\u001b[1;31mThe Kernel crashed while executing code in the the current cell or a previous cell. Please review the code in the cell(s) to identify a possible cause of the failure. Click <a href='https://aka.ms/vscodeJupyterKernelCrash'>here</a> for more info. View Jupyter <a href='command:jupyter.viewOutput'>log</a> for further details."
     ]
    }
   ],
   "source": [
    "\n",
    "import torch.nn as nn\n",
    "import torch\n",
    "import gymnasium as gym\n",
    "from stable_baselines3.common.torch_layers import BaseFeaturesExtractor\n",
    "from typing import Dict\n",
    "from features_extractor import MinigridFeaturesExtractor\n",
    "\n",
    "n_actions = env.action_space[0].n\n",
    "policy_network =  MinigridFeaturesExtractor(env.observation_space, n_actions).to(device)"
   ]
  },
  {
   "cell_type": "code",
   "execution_count": 8,
   "id": "83b0f707",
   "metadata": {},
   "outputs": [
    {
     "name": "stdout",
     "output_type": "stream",
     "text": [
      "OrderedDict([(0, 2), (1, 5)])\n"
     ]
    },
    {
     "data": {
      "text/plain": [
       "(1, 5)"
      ]
     },
     "execution_count": 8,
     "metadata": {},
     "output_type": "execute_result"
    }
   ],
   "source": [
    "action = env.action_space.sample()\n",
    "print(action)\n",
    "keys  =list(action.keys())\n",
    "second_key = keys[1]\n",
    "second_item = (second_key, action[second_key])\n",
    "second_item"
   ]
  },
  {
   "cell_type": "code",
   "execution_count": 9,
   "id": "edd1bbb5",
   "metadata": {},
   "outputs": [
    {
     "data": {
      "text/plain": [
       "array([[[[ 24, 112, 162],\n",
       "         [  3, 127, 182],\n",
       "         [159,  95, 187],\n",
       "         [ 32,  80, 214],\n",
       "         [ 63,  69, 143],\n",
       "         [ 75, 234, 139],\n",
       "         [ 79,  28, 237]],\n",
       "\n",
       "        [[187, 235,  92],\n",
       "         [141, 210,  82],\n",
       "         [216,  52, 231],\n",
       "         [ 26,   8, 139],\n",
       "         [191, 113, 235],\n",
       "         [193,  65, 180],\n",
       "         [ 74,  60,  60]],\n",
       "\n",
       "        [[ 44,  46, 230],\n",
       "         [110,  70, 118],\n",
       "         [ 13, 230, 164],\n",
       "         [169, 242, 168],\n",
       "         [190, 195,  75],\n",
       "         [234, 244, 137],\n",
       "         [  2, 142, 153]],\n",
       "\n",
       "        [[119,  18, 142],\n",
       "         [  1,  94,  34],\n",
       "         [175, 104,  55],\n",
       "         [107,  70, 109],\n",
       "         [ 17, 113,   4],\n",
       "         [ 28, 235, 162],\n",
       "         [ 68, 132,  74]],\n",
       "\n",
       "        [[174, 164, 130],\n",
       "         [249, 120,  24],\n",
       "         [ 71, 231, 195],\n",
       "         [116, 120, 149],\n",
       "         [ 36, 195, 156],\n",
       "         [ 67, 129,  48],\n",
       "         [245, 232, 141]],\n",
       "\n",
       "        [[196,  55, 102],\n",
       "         [ 32, 172, 231],\n",
       "         [ 96,  20, 124],\n",
       "         [172,  86, 181],\n",
       "         [120,  15, 189],\n",
       "         [ 92, 227, 230],\n",
       "         [ 61,  76, 189]],\n",
       "\n",
       "        [[ 94, 199,  87],\n",
       "         [ 61,  13, 227],\n",
       "         [131, 204,  36],\n",
       "         [ 10,  35,  60],\n",
       "         [224, 188,   9],\n",
       "         [223, 181, 154],\n",
       "         [ 73, 116,  56]]]])"
      ]
     },
     "execution_count": 9,
     "metadata": {},
     "output_type": "execute_result"
    }
   ],
   "source": [
    "env.observation_space.spaces[0]['image'].sample()[None]"
   ]
  },
  {
   "cell_type": "code",
   "execution_count": 10,
   "id": "8bf0e832",
   "metadata": {},
   "outputs": [
    {
     "name": "stdout",
     "output_type": "stream",
     "text": [
      "Dict(0: Dict('direction': Discrete(4), 'image': Box(0, 255, (7, 7, 3), int64), 'mission': MissionSpace('get to the green goal square, you rascal')), 1: Dict('direction': Discrete(4), 'image': Box(0, 255, (7, 7, 3), int64), 'mission': MissionSpace('get to the green goal square, you rascal')))\n",
      "[[[ 88 182 101]\n",
      "  [ 11 132  44]\n",
      "  [ 39  51 128]\n",
      "  [189 244  58]\n",
      "  [104  38 157]\n",
      "  [108 222 208]\n",
      "  [234   2  83]]\n",
      "\n",
      " [[233  70 144]\n",
      "  [147 125 118]\n",
      "  [ 71  61 161]\n",
      "  [239  18 156]\n",
      "  [205 228  46]\n",
      "  [  2 137 226]\n",
      "  [129 254 154]]\n",
      "\n",
      " [[174 101 184]\n",
      "  [116 248 172]\n",
      "  [125  15 232]\n",
      "  [ 85  31 255]\n",
      "  [217  13 169]\n",
      "  [125 132  27]\n",
      "  [210  41 131]]\n",
      "\n",
      " [[ 30 219 192]\n",
      "  [129 174 203]\n",
      "  [172  73 212]\n",
      "  [145 234 144]\n",
      "  [ 42 102 248]\n",
      "  [140 115 255]\n",
      "  [248  76 153]]\n",
      "\n",
      " [[124 177  87]\n",
      "  [205  56 108]\n",
      "  [104 245 174]\n",
      "  [183 255 123]\n",
      "  [ 32 240 115]\n",
      "  [ 82   3 178]\n",
      "  [203 106  51]]\n",
      "\n",
      " [[217  88 107]\n",
      "  [171  27 119]\n",
      "  [ 33 127 183]\n",
      "  [ 44 158 179]\n",
      "  [153  72  33]\n",
      "  [143  87   7]\n",
      "  [ 11 153 133]]\n",
      "\n",
      " [[ 26   6 148]\n",
      "  [ 18  91 153]\n",
      "  [193 194  72]\n",
      "  [186  22  61]\n",
      "  [164 118  79]\n",
      "  [222 226  74]\n",
      "  [240 171 233]]]\n",
      "(7, 7, 3)\n",
      "Current device for CNN: cpu\n"
     ]
    },
    {
     "ename": "",
     "evalue": "",
     "output_type": "error",
     "traceback": [
      "\u001b[1;31mThe Kernel crashed while executing code in the the current cell or a previous cell. Please review the code in the cell(s) to identify a possible cause of the failure. Click <a href='https://aka.ms/vscodeJupyterKernelCrash'>here</a> for more info. View Jupyter <a href='command:jupyter.viewOutput'>log</a> for further details."
     ]
    }
   ],
   "source": [
    "agent = Agent(env)\n",
    "agent.train(1,env)\n",
    "print(\"we did it\")"
   ]
  }
 ],
 "metadata": {
  "kernelspec": {
   "display_name": "multigrid_stable",
   "language": "python",
   "name": "python3"
  },
  "language_info": {
   "codemirror_mode": {
    "name": "ipython",
    "version": 3
   },
   "file_extension": ".py",
   "mimetype": "text/x-python",
   "name": "python",
   "nbconvert_exporter": "python",
   "pygments_lexer": "ipython3",
   "version": "3.11.0"
  }
 },
 "nbformat": 4,
 "nbformat_minor": 5
}
