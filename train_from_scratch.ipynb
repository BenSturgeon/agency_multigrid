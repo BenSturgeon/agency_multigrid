{
 "cells": [
  {
   "cell_type": "code",
   "execution_count": 1,
   "id": "48e0679f",
   "metadata": {},
   "outputs": [
    {
     "name": "stdout",
     "output_type": "stream",
     "text": [
      "pygame 2.5.1 (SDL 2.28.2, Python 3.11.0)\n",
      "Hello from the pygame community. https://www.pygame.org/contribute.html\n",
      "self.max_steps=200\n"
     ]
    }
   ],
   "source": [
    "%load_ext autoreload\n",
    "%autoreload 2\n",
    "from multigrid.envs import ConstrainedEnv\n",
    "import matplotlib.pyplot as plt\n",
    "\n",
    "env = ConstrainedEnv(render_mode=\"rgb_array\", agents=2)\n",
    "\n",
    "\n",
    "state, info = env.reset()"
   ]
  },
  {
   "cell_type": "code",
   "execution_count": 2,
   "id": "7b3946a1",
   "metadata": {},
   "outputs": [
    {
     "data": {
      "image/png": "[encoded data removed]",
      "text/plain": [
       "<Figure size 640x480 with 1 Axes>"
      ]
     },
     "metadata": {},
     "output_type": "display_data"
    }
   ],
   "source": [
    "# Test a step and show environment is working\n",
    "\n",
    "action = env.action_space.sample()\n",
    "env.step(action)\n",
    "img = env.render()\n",
    "plt.imshow(img)\n",
    "plt.show()\n"
   ]
  },
  {
   "cell_type": "code",
   "execution_count": 3,
   "id": "810e5ad7",
   "metadata": {},
   "outputs": [],
   "source": [
    "from DQN_multi_agent import *"
   ]
  },
  {
   "cell_type": "code",
   "execution_count": 4,
   "id": "7a2a974b",
   "metadata": {},
   "outputs": [],
   "source": [
    "\n",
    "import torch.nn as nn\n",
    "import torch\n",
    "import gymnasium as gym\n",
    "from stable_baselines3.common.torch_layers import BaseFeaturesExtractor\n",
    "from typing import Dict\n",
    "\n",
    "\n",
    "class MultiAgentMinigridFeaturesExtractor(BaseFeaturesExtractor):\n",
    "    def __init__(self, observation_space: gym.Space, features_dim: int = 512, normalized_image: bool = False) -> None:\n",
    "        super().__init__(observation_space, features_dim)\n",
    "\n",
    "        # Assume all agents have the same observation space\n",
    "        agent_obs_space = observation_space.spaces[0]['image']\n",
    "        n_input_channels = agent_obs_space.shape[0]\n",
    "\n",
    "        self.cnn = nn.Sequential(\n",
    "            nn.Conv2d(n_input_channels, 16, (2, 2)),\n",
    "            nn.ReLU(),\n",
    "            nn.Conv2d(16, 32, (2, 2)),\n",
    "            nn.ReLU(),\n",
    "            nn.Conv2d(32, 64, (2, 2)),\n",
    "            nn.ReLU(),\n",
    "            nn.Flatten(),\n",
    "        )\n",
    "\n",
    "        # Compute shape by doing one forward pass\n",
    "        with torch.no_grad():\n",
    "            n_flatten = self.cnn(torch.as_tensor(agent_obs_space.sample()[None]).float()).shape[1]\n",
    "\n",
    "        self.linear = nn.Sequential(nn.Linear(n_flatten, features_dim), nn.ReLU())\n",
    "\n",
    "    def forward(self, observations: Dict[int, Dict[str, torch.Tensor]]) -> torch.Tensor:\n",
    "        # Extract image observations for each agent and pass through CNN\n",
    "        image_obs = torch.stack([obs_dict['image'] for obs_dict in observations.values()])\n",
    "        cnn_out = self.cnn(image_obs)\n",
    "\n",
    "        # Pass CNN output through linear layer\n",
    "        return self.linear(cnn_out)\n",
    "\n"
   ]
  },
  {
   "cell_type": "code",
   "execution_count": 5,
   "id": "83b0f707",
   "metadata": {},
   "outputs": [
    {
     "name": "stdout",
     "output_type": "stream",
     "text": [
      "OrderedDict([(0, 5), (1, 5)])\n"
     ]
    },
    {
     "data": {
      "text/plain": [
       "(1, 5)"
      ]
     },
     "execution_count": 5,
     "metadata": {},
     "output_type": "execute_result"
    }
   ],
   "source": [
    "action = env.action_space.sample()\n",
    "print(action)\n",
    "keys  =list(action.keys())\n",
    "second_key = keys[1]\n",
    "second_item = (second_key, action[second_key])\n",
    "second_item"
   ]
  },
  {
   "cell_type": "code",
   "execution_count": 6,
   "id": "edd1bbb5",
   "metadata": {},
   "outputs": [
    {
     "data": {
      "text/plain": [
       "array([[[[ 38, 118, 200],\n",
       "         [182,  78,  69],\n",
       "         [200,   3,  43],\n",
       "         [188, 199, 158],\n",
       "         [  9, 135,  16],\n",
       "         [ 40, 147,  18],\n",
       "         [239,  85, 239]],\n",
       "\n",
       "        [[ 22,  76, 137],\n",
       "         [197, 228, 104],\n",
       "         [ 81,  60, 186],\n",
       "         [129, 183, 138],\n",
       "         [ 11,  16, 210],\n",
       "         [151,  74, 216],\n",
       "         [145, 122, 122]],\n",
       "\n",
       "        [[140, 188, 174],\n",
       "         [ 73,  33,  90],\n",
       "         [203,  69, 184],\n",
       "         [121, 238, 179],\n",
       "         [125,  82, 200],\n",
       "         [242,  20,  52],\n",
       "         [ 72,  42, 215]],\n",
       "\n",
       "        [[ 56, 248,  87],\n",
       "         [ 68, 177,  27],\n",
       "         [110, 232,  30],\n",
       "         [118, 246,  18],\n",
       "         [ 41,  35,  72],\n",
       "         [ 32, 242, 113],\n",
       "         [181, 229, 215]],\n",
       "\n",
       "        [[100, 139,  89],\n",
       "         [ 81, 119, 202],\n",
       "         [  7, 135,  88],\n",
       "         [124, 253, 148],\n",
       "         [ 73, 107,  13],\n",
       "         [ 53, 116,  44],\n",
       "         [158, 249, 152]],\n",
       "\n",
       "        [[133,  33, 215],\n",
       "         [  5, 165, 100],\n",
       "         [162, 224,  36],\n",
       "         [ 24, 177,  57],\n",
       "         [183,   7,  18],\n",
       "         [ 32,  57,  55],\n",
       "         [253, 194,  19]],\n",
       "\n",
       "        [[223,  39,  49],\n",
       "         [236, 116, 134],\n",
       "         [ 61, 118, 167],\n",
       "         [198,   8,  21],\n",
       "         [136, 200,  76],\n",
       "         [245, 235, 225],\n",
       "         [ 17,  28,  83]]]])"
      ]
     },
     "execution_count": 6,
     "metadata": {},
     "output_type": "execute_result"
    }
   ],
   "source": [
    "env.observation_space.spaces[0]['image'].sample()[None]"
   ]
  },
  {
   "cell_type": "code",
   "execution_count": 7,
   "id": "8bf0e832",
   "metadata": {},
   "outputs": [
    {
     "ename": "",
     "evalue": "",
     "output_type": "error",
     "traceback": [
      "\u001b[1;31mThe Kernel crashed while executing code in the the current cell or a previous cell. Please review the code in the cell(s) to identify a possible cause of the failure. Click <a href='https://aka.ms/vscodeJupyterKernelCrash'>here</a> for more info. View Jupyter <a href='command:jupyter.viewOutput'>log</a> for further details."
     ]
    }
   ],
   "source": [
    "agent = Agent(env)\n",
    "agent.train(20,env)\n",
    "print(\"we did it\")"
   ]
  },
  {
   "cell_type": "code",
   "execution_count": null,
   "id": "f31ba5a2",
   "metadata": {},
   "outputs": [
    {
     "name": "stdout",
     "output_type": "stream",
     "text": [
      "Dict(0: Dict('direction': Discrete(4), 'image': Box(0, 255, (7, 7, 3), int64), 'mission': MissionSpace('get to the green goal square, you rascal')), 1: Dict('direction': Discrete(4), 'image': Box(0, 255, (7, 7, 3), int64), 'mission': MissionSpace('get to the green goal square, you rascal')))\n"
     ]
    }
   ],
   "source": [
    "print(env.observation_space)"
   ]
  },
  {
   "cell_type": "code",
   "execution_count": null,
   "id": "34559090",
   "metadata": {},
   "outputs": [],
   "source": [
    "env = gym.make(\n",
    "    \"LunarLander-v2\",\n",
    "    continuous = False,\n",
    "    gravity = -10.0,\n",
    "    enable_wind = False,\n",
    "    wind_power = 15.0,\n",
    "    turbulence_power = 1.5\n",
    ")"
   ]
  },
  {
   "cell_type": "code",
   "execution_count": 9,
   "id": "d7c21f54",
   "metadata": {},
   "outputs": [
    {
     "data": {
      "text/plain": [
       "Box([-1.5       -1.5       -5.        -5.        -3.1415927 -5.\n",
       " -0.        -0.       ], [1.5       1.5       5.        5.        3.1415927 5.        1.\n",
       " 1.       ], (8,), float32)"
      ]
     },
     "execution_count": 9,
     "metadata": {},
     "output_type": "execute_result"
    }
   ],
   "source": []
  },
  {
   "cell_type": "code",
   "execution_count": 10,
   "id": "a63da108",
   "metadata": {},
   "outputs": [],
   "source": [
    "import minigrid"
   ]
  },
  {
   "cell_type": "code",
   "execution_count": 14,
   "id": "056ebd5f",
   "metadata": {},
   "outputs": [],
   "source": [
    "import gymnasium\n",
    "import minigrid\n",
    "\n",
    "# Create a MiniGrid environment\n",
    "env = gym.make('MiniGrid-Empty-5x5-v0')\n",
    "\n",
    "# Reset the environment\n",
    "obs = env.reset()\n",
    "\n",
    "# Render the initial state\n",
    "env.render(\n",
    "    \n",
    ")"
   ]
  }
 ],
 "metadata": {
  "kernelspec": {
   "display_name": "multigrid_stable",
   "language": "python",
   "name": "python3"
  },
  "language_info": {
   "codemirror_mode": {
    "name": "ipython",
    "version": 3
   },
   "file_extension": ".py",
   "mimetype": "text/x-python",
   "name": "python",
   "nbconvert_exporter": "python",
   "pygments_lexer": "ipython3",
   "version": "3.11.0"
  }
 },
 "nbformat": 4,
 "nbformat_minor": 5
}
