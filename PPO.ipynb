{
 "cells": [
  {
   "cell_type": "code",
   "execution_count": 7,
   "metadata": {},
   "outputs": [],
   "source": [
    "import gymnasium as gym\n",
    "import numpy as np\n",
    "import torch\n",
    "import matplotlib\n",
    "import matplotlib.pyplot as plt\n",
    "\n",
    "from tqdm import tqdm\n",
    "import torch.nn as nn\n",
    "from itertools import count\n",
    "\n",
    "from multigrid.envs.empty import EmptyEnv\n",
    "\n",
    "import torch as T\n",
    "from torch import optim\n",
    "import torch.nn.functional as F\n",
    "from collections import deque , namedtuple\n",
    "from itertools import count\n",
    "# set up matplotlib\n",
    "from IPython import display\n",
    "\n",
    "is_ipython = 'inline' in matplotlib.get_backend()\n",
    "if is_ipython:\n",
    "    from IPython import display\n",
    "from features_extractor import *\n",
    "\n",
    "from minigrid.wrappers import ImgObsWrapper\n",
    "from stable_baselines3 import PPO\n",
    "from stable_baselines3.common.torch_layers import BaseFeaturesExtractor\n",
    "\n",
    "plt.ion()\n",
    "# if gpu is to be used\n",
    "device = torch.device(\"cuda\" if torch.cuda.is_available() else \"cpu\")\n",
    "\n",
    "\n",
    "environment = \"MultiGrid-Custom-v0\"\n",
    "\n",
    "\n",
    "\n",
    "\n",
    "\n",
    "\n"
   ]
  },
  {
   "cell_type": "code",
   "execution_count": 8,
   "id": "96dcc838",
   "metadata": {},
   "outputs": [
    {
     "ename": "KeyError",
     "evalue": "'image'",
     "output_type": "error",
     "traceback": [
      "\u001b[0;31m---------------------------------------------------------------------------\u001b[0m",
      "\u001b[0;31mKeyError\u001b[0m                                  Traceback (most recent call last)",
      "Cell \u001b[0;32mIn[8], line 18\u001b[0m\n\u001b[1;32m     12\u001b[0m policy_kwargs \u001b[39m=\u001b[39m \u001b[39mdict\u001b[39m(\n\u001b[1;32m     13\u001b[0m features_extractor_class\u001b[39m=\u001b[39mMinigridFeaturesExtractor,\n\u001b[1;32m     14\u001b[0m features_extractor_kwargs\u001b[39m=\u001b[39m\u001b[39mdict\u001b[39m(features_dim\u001b[39m=\u001b[39m\u001b[39m128\u001b[39m),\n\u001b[1;32m     15\u001b[0m )\n\u001b[1;32m     17\u001b[0m env \u001b[39m=\u001b[39m gym\u001b[39m.\u001b[39mmake(environment, render_mode\u001b[39m=\u001b[39m\u001b[39m\"\u001b[39m\u001b[39mrgb_array\u001b[39m\u001b[39m\"\u001b[39m)\n\u001b[0;32m---> 18\u001b[0m env \u001b[39m=\u001b[39m ImgObsWrapper(env)\n\u001b[1;32m     21\u001b[0m model \u001b[39m=\u001b[39m PPO(\u001b[39m\"\u001b[39m\u001b[39mCnnPolicy\u001b[39m\u001b[39m\"\u001b[39m, env, policy_kwargs\u001b[39m=\u001b[39mpolicy_kwargs, verbose\u001b[39m=\u001b[39m\u001b[39m1\u001b[39m)\n\u001b[1;32m     22\u001b[0m model\u001b[39m.\u001b[39mlearn(\u001b[39m2e5\u001b[39m \u001b[39m*\u001b[39m \u001b[39m4\u001b[39m)\n",
      "File \u001b[0;32m~/mambaforge/envs/multigrid_test/lib/python3.11/site-packages/minigrid/wrappers.py:214\u001b[0m, in \u001b[0;36mImgObsWrapper.__init__\u001b[0;34m(self, env)\u001b[0m\n\u001b[1;32m    208\u001b[0m \u001b[39m\u001b[39m\u001b[39m\"\"\"A wrapper that makes image the only observation.\u001b[39;00m\n\u001b[1;32m    209\u001b[0m \n\u001b[1;32m    210\u001b[0m \u001b[39mArgs:\u001b[39;00m\n\u001b[1;32m    211\u001b[0m \u001b[39m    env: The environment to apply the wrapper\u001b[39;00m\n\u001b[1;32m    212\u001b[0m \u001b[39m\"\"\"\u001b[39;00m\n\u001b[1;32m    213\u001b[0m \u001b[39msuper\u001b[39m()\u001b[39m.\u001b[39m\u001b[39m__init__\u001b[39m(env)\n\u001b[0;32m--> 214\u001b[0m \u001b[39mself\u001b[39m\u001b[39m.\u001b[39mobservation_space \u001b[39m=\u001b[39m env\u001b[39m.\u001b[39;49mobservation_space\u001b[39m.\u001b[39;49mspaces[\u001b[39m\"\u001b[39;49m\u001b[39mimage\u001b[39;49m\u001b[39m\"\u001b[39;49m]\n",
      "\u001b[0;31mKeyError\u001b[0m: 'image'"
     ]
    }
   ],
   "source": [
    "if __name__ == \"__main__\":\n",
    "    \n",
    "    # env = gym.make(\n",
    "    #     \"LunarLander-v2\",\n",
    "    #     continuous = False,\n",
    "    #     gravity = -10.0,\n",
    "    #     enable_wind = False,\n",
    "    #     wind_power = 15.0,\n",
    "    #     turbulence_power = 1.5\n",
    "    # )\n",
    "\n",
    "    policy_kwargs = dict(\n",
    "    features_extractor_class=MinigridFeaturesExtractor,\n",
    "    features_extractor_kwargs=dict(features_dim=128),\n",
    "    )\n",
    "\n",
    "    env = gym.make(environment, render_mode=\"rgb_array\")\n",
    "    env = ImgObsWrapper(env)\n",
    "    \n",
    "\n",
    "    model = PPO(\"CnnPolicy\", env, policy_kwargs=policy_kwargs, verbose=1)\n",
    "    model.learn(2e5 * 4)\n",
    "    model.save(\"ppo_minigrid\")\n",
    "\n",
    "\n",
    "    # print(\"we did it\")"
   ]
  },
  {
   "cell_type": "code",
   "execution_count": 3,
   "id": "d961b460",
   "metadata": {},
   "outputs": [],
   "source": [
    "algo = 'PPO'\n",
    "config = AlgorithmConfig(\n",
    "    env='MultiGrid-Empty-8x8-v0',\n",
    "    num_agents=2,\n",
    "    framework='torch',\n",
    "    num_workers=8,\n",
    "    num_gpus=0,\n",
    ")\n",
    "stop_conditions = {'timesteps_total': 1e7}\n",
    "save_dir = '~/ray_results/'\n",
    "\n",
    "train(algo, config, stop_conditions, save_dir)"
   ]
  },
  {
   "cell_type": "code",
   "execution_count": 12,
   "id": "82daf6bc",
   "metadata": {},
   "outputs": [
    {
     "data": {
      "text/plain": [
       "{'image': array([[[2, 5, 0],\n",
       "         [2, 5, 0],\n",
       "         [2, 5, 0],\n",
       "         [2, 5, 0],\n",
       "         [2, 5, 0],\n",
       "         [2, 5, 0],\n",
       "         [2, 5, 0]],\n",
       " \n",
       "        [[2, 5, 0],\n",
       "         [2, 5, 0],\n",
       "         [2, 5, 0],\n",
       "         [2, 5, 0],\n",
       "         [2, 5, 0],\n",
       "         [2, 5, 0],\n",
       "         [2, 5, 0]],\n",
       " \n",
       "        [[2, 5, 0],\n",
       "         [2, 5, 0],\n",
       "         [2, 5, 0],\n",
       "         [2, 5, 0],\n",
       "         [2, 5, 0],\n",
       "         [2, 5, 0],\n",
       "         [2, 5, 0]],\n",
       " \n",
       "        [[1, 0, 0],\n",
       "         [1, 0, 0],\n",
       "         [1, 0, 0],\n",
       "         [1, 0, 0],\n",
       "         [1, 0, 0],\n",
       "         [1, 0, 0],\n",
       "         [1, 0, 0]],\n",
       " \n",
       "        [[1, 0, 0],\n",
       "         [1, 0, 0],\n",
       "         [1, 0, 0],\n",
       "         [1, 0, 0],\n",
       "         [1, 0, 0],\n",
       "         [1, 0, 0],\n",
       "         [1, 0, 0]],\n",
       " \n",
       "        [[1, 0, 0],\n",
       "         [1, 0, 0],\n",
       "         [1, 0, 0],\n",
       "         [1, 0, 0],\n",
       "         [1, 0, 0],\n",
       "         [1, 0, 0],\n",
       "         [1, 0, 0]],\n",
       " \n",
       "        [[1, 0, 0],\n",
       "         [1, 0, 0],\n",
       "         [1, 0, 0],\n",
       "         [1, 0, 0],\n",
       "         [1, 0, 0],\n",
       "         [1, 0, 0],\n",
       "         [1, 0, 0]]], dtype=uint8),\n",
       " 'direction': 0,\n",
       " 'mission': 'get to the green goal square'}"
      ]
     },
     "execution_count": 12,
     "metadata": {},
     "output_type": "execute_result"
    }
   ],
   "source": [
    "obs[0]"
   ]
  },
  {
   "cell_type": "code",
   "execution_count": 32,
   "id": "ac3f2300",
   "metadata": {},
   "outputs": [
    {
     "name": "stdout",
     "output_type": "stream",
     "text": [
      "<class 'tuple'>\n",
      "<class 'tuple'>\n",
      "<class 'dict'>\n",
      "<class 'dict'>\n",
      "<class 'dict'>\n",
      "<class 'dict'>\n",
      "<class 'dict'>\n",
      "<class 'dict'>\n",
      "<class 'dict'>\n",
      "<class 'dict'>\n",
      "<class 'dict'>\n",
      "<class 'dict'>\n",
      "<class 'dict'>\n",
      "<class 'dict'>\n",
      "<class 'dict'>\n",
      "<class 'dict'>\n",
      "<class 'dict'>\n",
      "<class 'dict'>\n",
      "<class 'dict'>\n",
      "<class 'dict'>\n",
      "<class 'dict'>\n",
      "<class 'dict'>\n",
      "<class 'dict'>\n",
      "<class 'dict'>\n",
      "<class 'dict'>\n",
      "<class 'dict'>\n",
      "<class 'dict'>\n",
      "<class 'dict'>\n",
      "<class 'dict'>\n",
      "<class 'dict'>\n",
      "<class 'dict'>\n",
      "<class 'dict'>\n",
      "<class 'dict'>\n",
      "<class 'dict'>\n",
      "<class 'dict'>\n",
      "<class 'dict'>\n",
      "<class 'dict'>\n",
      "<class 'dict'>\n",
      "<class 'dict'>\n",
      "<class 'dict'>\n",
      "<class 'dict'>\n",
      "<class 'dict'>\n",
      "<class 'dict'>\n",
      "<class 'dict'>\n",
      "<class 'dict'>\n",
      "<class 'dict'>\n",
      "<class 'dict'>\n",
      "<class 'dict'>\n",
      "<class 'dict'>\n",
      "<class 'dict'>\n",
      "<class 'dict'>\n"
     ]
    }
   ],
   "source": [
    "# model = PPO.load(\"ppo_minigrid.zip\")\n",
    "# import imageio\n",
    "import matplotlib.pyplot as plt\n",
    "images = []\n",
    "\n",
    "env = gym.make(\"MiniGrid-Empty-16x16-v0\", render_mode=\"rgb_array\")\n",
    "# env = ImgObsWrapper(env)\n",
    "\n",
    "obs = env.reset()\n",
    "print(type(obs))\n",
    "for i in range(50):\n",
    "    print(type(obs))\n",
    "    if type(obs) == 'tuple':\n",
    "        image = obs[0]['image']\n",
    "    elif type(obs) == 'dict':\n",
    "        image = obs['image']\n",
    "    action, _states = model.predict(image)\n",
    "    obs, rewards, dones, info, _ = env.step(action)\n",
    "\n",
    "    img = env.render()\n",
    "    images.append(img)\n",
    "\n",
    "import imageio   \n",
    "imageio.mimsave('movie.gif', images)"
   ]
  },
  {
   "cell_type": "code",
   "execution_count": 19,
   "id": "bcb9ccde",
   "metadata": {},
   "outputs": [],
   "source": [
    "if type(obs) == \"dict\":\n",
    "    print(\"asd\")"
   ]
  },
  {
   "cell_type": "code",
   "execution_count": 23,
   "id": "539877f8",
   "metadata": {},
   "outputs": [
    {
     "ename": "KeyError",
     "evalue": "0",
     "output_type": "error",
     "traceback": [
      "\u001b[0;31m---------------------------------------------------------------------------\u001b[0m",
      "\u001b[0;31mKeyError\u001b[0m                                  Traceback (most recent call last)",
      "Cell \u001b[0;32mIn[23], line 1\u001b[0m\n\u001b[0;32m----> 1\u001b[0m obs[\u001b[39m0\u001b[39;49m][\u001b[39m'\u001b[39m\u001b[39mimage\u001b[39m\u001b[39m'\u001b[39m]\n",
      "\u001b[0;31mKeyError\u001b[0m: 0"
     ]
    }
   ],
   "source": [
    "obs[0]['image']"
   ]
  },
  {
   "cell_type": "code",
   "execution_count": 26,
   "id": "1e425320",
   "metadata": {},
   "outputs": [],
   "source": [
    "import imageio"
   ]
  },
  {
   "cell_type": "code",
   "execution_count": null,
   "id": "71818425",
   "metadata": {},
   "outputs": [],
   "source": []
  }
 ],
 "metadata": {
  "kernelspec": {
   "display_name": "multigrid_test",
   "language": "python",
   "name": "python3"
  },
  "language_info": {
   "codemirror_mode": {
    "name": "ipython",
    "version": 3
   },
   "file_extension": ".py",
   "mimetype": "text/x-python",
   "name": "python",
   "nbconvert_exporter": "python",
   "pygments_lexer": "ipython3",
   "version": "3.11.0"
  }
 },
 "nbformat": 4,
 "nbformat_minor": 5
}
